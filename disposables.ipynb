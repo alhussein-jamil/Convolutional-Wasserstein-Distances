{
 "cells": [
  {
   "cell_type": "code",
   "execution_count": null,
   "metadata": {},
   "outputs": [],
   "source": []
  },
  {
   "cell_type": "code",
   "execution_count": null,
   "metadata": {},
   "outputs": [
    {
     "ename": "NameError",
     "evalue": "name 'duck_pts' is not defined",
     "output_type": "error",
     "traceback": [
      "\u001b[1;31m---------------------------------------------------------------------------\u001b[0m\n",
      "\u001b[1;31mNameError\u001b[0m                                 Traceback (most recent call last)\n",
      "Cell \u001b[1;32mIn[29], line 4\u001b[0m\n",
      "\u001b[0;32m      1\u001b[0m a \u001b[39m=\u001b[39m [\u001b[39m1.0\u001b[39m\u001b[39m/\u001b[39m(n\u001b[39m*\u001b[39mn\u001b[39m*\u001b[39mn)]\u001b[39m*\u001b[39m(n\u001b[39m*\u001b[39mn\u001b[39m*\u001b[39mn)\n",
      "\u001b[0;32m      2\u001b[0m gamma\u001b[39m=\u001b[39m\u001b[39m0.08\u001b[39m\n",
      "\u001b[1;32m----> 4\u001b[0m point_cloud_plot(duck_pts)\n",
      "\u001b[0;32m      5\u001b[0m \u001b[39mfor\u001b[39;00m i \u001b[39min\u001b[39;00m \u001b[39mrange\u001b[39m(\u001b[39m10\u001b[39m):\n",
      "\u001b[0;32m      7\u001b[0m     x\u001b[39m=\u001b[39m Wass_Bary(np\u001b[39m.\u001b[39marray([torus_dis,duck_dis]), coef\u001b[39m=\u001b[39m[\u001b[39m0.1\u001b[39m\u001b[39m*\u001b[39mi,\u001b[39m1\u001b[39m\u001b[39m-\u001b[39m\u001b[39m0.1\u001b[39m\u001b[39m*\u001b[39mi], n\u001b[39m=\u001b[39mn, a\u001b[39m=\u001b[39ma ,\u001b[39miter\u001b[39m \u001b[39m=\u001b[39m \u001b[39m1\u001b[39m,prefactorized\u001b[39m=\u001b[39m\u001b[39mFalse\u001b[39;00m,conv\u001b[39m=\u001b[39m\u001b[39mTrue\u001b[39;00m,gamma\u001b[39m=\u001b[39mgamma)\n",
      "\n",
      "\u001b[1;31mNameError\u001b[0m: name 'duck_pts' is not defined"
     ]
    }
   ],
   "source": [
    "\n",
    "a = [1.0/(n*n*n)]*(n*n*n)\n",
    "gamma=0.08\n",
    "\n",
    "point_cloud_plot(duck_pts)\n",
    "for i in range(10):\n",
    "    \n",
    "    x= Wass_Bary(np.array([torus_dis,duck_dis]), coef=[0.1*i,1-0.1*i], n=n, a=a ,iter = 1,prefactorized=False,conv=True,gamma=gamma)\n",
    "    x3d = dis_to_3d(x)\n",
    "    point_cloud_plot(distribution_to_cloud(x3d,scale = 20))\n",
    "\n",
    "point_cloud_plot(torus_pts)"
   ]
  },
  {
   "cell_type": "code",
   "execution_count": null,
   "metadata": {},
   "outputs": [
    {
     "ename": "NameError",
     "evalue": "name 'robot_dis' is not defined",
     "output_type": "error",
     "traceback": [
      "\u001b[1;31m---------------------------------------------------------------------------\u001b[0m\n",
      "\u001b[1;31mNameError\u001b[0m                                 Traceback (most recent call last)\n",
      "Cell \u001b[1;32mIn[118], line 14\u001b[0m\n",
      "\u001b[0;32m     12\u001b[0m     \u001b[39mreturn\u001b[39;00m points\n",
      "\u001b[0;32m     13\u001b[0m n_samples \u001b[39m=\u001b[39m \u001b[39m30\u001b[39m\n",
      "\u001b[1;32m---> 14\u001b[0m points \u001b[39m=\u001b[39m sample_from_distribution(robot_dis, n, n_samples)\n",
      "\n",
      "\u001b[1;31mNameError\u001b[0m: name 'robot_dis' is not defined"
     ]
    }
   ],
   "source": [
    "def sample_from_distribution(distribution, n_cuts, num_samples):\n",
    "    cumulative_distribution = np.cumsum(distribution)\n",
    "    points = np.zeros((num_samples, 3))\n",
    "    for i in range(num_samples):\n",
    "        sample = np.random.rand()\n",
    "        index = np.searchsorted(cumulative_distribution, sample)\n",
    "        x,y,z = i_to_xyz(index, n_cuts)\n",
    "        x += np.random.rand() / n_cuts\n",
    "        y += np.random.rand() / n_cuts\n",
    "        z += np.random.rand() / n_cuts\n",
    "        points[i] = (x, y, z)\n",
    "    return points\n",
    "n_samples = 30\n",
    "points = sample_from_distribution(robot_dis, n, n_samples)\n",
    "\n"
   ]
  },
  {
   "cell_type": "code",
   "execution_count": null,
   "metadata": {},
   "outputs": [],
   "source": [
    "from scipy.spatial import Delaunay\n",
    "import plotly.express as px\n",
    "import pandas as pd \n",
    "def point_cloud_plot(points):\n",
    "    df = pd.DataFrame(points)\n",
    "    fig = px.scatter_3d(df,x=0,y=1,z=2)\n",
    "    fig.show()"
   ]
  },
  {
   "cell_type": "code",
   "execution_count": null,
   "metadata": {},
   "outputs": [],
   "source": [
    "import plotly.graph_objs as go\n",
    "from scipy.spatial import Delaunay\n",
    "def to_3d_mesh(point_cloud):\n",
    "    print(len(point_cloud))\n",
    "    tri = Delaunay(point_cloud)\n",
    "\n",
    "    x, y, z = point_cloud[:,0], point_cloud[:,1], point_cloud[:,2]\n",
    "\n",
    "    mesh = go.Mesh3d(x=x, y=y, z=z, i=tri.simplices[:,0], j=tri.simplices[:,1], k=tri.simplices[:,2],\n",
    "                    color='lightblue', opacity=0.5)\n",
    "\n",
    "    fig = go.Figure(data=[mesh])\n",
    "    fig.show()\n",
    "\n",
    "\n",
    "\n"
   ]
  },
  {
   "cell_type": "code",
   "execution_count": null,
   "metadata": {},
   "outputs": [
    {
     "ename": "NameError",
     "evalue": "name 'robot_dis' is not defined",
     "output_type": "error",
     "traceback": [
      "\u001b[1;31m---------------------------------------------------------------------------\u001b[0m\n",
      "\u001b[1;31mNameError\u001b[0m                                 Traceback (most recent call last)\n",
      "Cell \u001b[1;32mIn[33], line 1\u001b[0m\n",
      "\u001b[1;32m----> 1\u001b[0m point_cloud_plot(sample_from_distribution(robot_dis, n, n_samples))\n",
      "\u001b[0;32m      2\u001b[0m \u001b[39mfor\u001b[39;00m i \u001b[39min\u001b[39;00m \u001b[39mrange\u001b[39m(\u001b[39m10\u001b[39m):\n",
      "\u001b[0;32m      3\u001b[0m     interpolation\u001b[39m=\u001b[39m sample_from_distribution(Wass_Bary(np\u001b[39m.\u001b[39marray([robot_dis,dino_dis]), [\u001b[39m1\u001b[39m\u001b[39m-\u001b[39m\u001b[39m0.1\u001b[39m\u001b[39m*\u001b[39mi,\u001b[39m0.1\u001b[39m\u001b[39m*\u001b[39mi], prefactor, a ,\u001b[39miter\u001b[39m \u001b[39m=\u001b[39m \u001b[39m10\u001b[39m),n,n_samples)\n",
      "\n",
      "\u001b[1;31mNameError\u001b[0m: name 'robot_dis' is not defined"
     ]
    }
   ],
   "source": [
    "point_cloud_plot(sample_from_distribution(robot_dis, n, n_samples))\n",
    "for i in range(10):\n",
    "    interpolation= sample_from_distribution(Wass_Bary(np.array([robot_dis,dino_dis]), [1-0.1*i,0.1*i], prefactor, a ,iter = 10),n,n_samples)\n",
    "    point_cloud_plot(interpolation)\n",
    "point_cloud_plot(sample_from_distribution(dino_dis, n, n_samples))"
   ]
  },
  {
   "cell_type": "code",
   "execution_count": null,
   "metadata": {},
   "outputs": [
    {
     "ename": "NameError",
     "evalue": "name 'points' is not defined",
     "output_type": "error",
     "traceback": [
      "\u001b[1;31m---------------------------------------------------------------------------\u001b[0m\n",
      "\u001b[1;31mNameError\u001b[0m                                 Traceback (most recent call last)\n",
      "Cell \u001b[1;32mIn[121], line 3\u001b[0m\n",
      "\u001b[0;32m      1\u001b[0m \u001b[39mimport\u001b[39;00m \u001b[39mplotly\u001b[39;00m\u001b[39m.\u001b[39;00m\u001b[39mexpress\u001b[39;00m \u001b[39mas\u001b[39;00m \u001b[39mpx\u001b[39;00m\n",
      "\u001b[0;32m      2\u001b[0m \u001b[39mimport\u001b[39;00m \u001b[39mpandas\u001b[39;00m \u001b[39mas\u001b[39;00m \u001b[39mpd\u001b[39;00m\n",
      "\u001b[1;32m----> 3\u001b[0m df \u001b[39m=\u001b[39m pd\u001b[39m.\u001b[39mDataFrame(points)\n",
      "\u001b[0;32m      4\u001b[0m fig \u001b[39m=\u001b[39m px\u001b[39m.\u001b[39mscatter_3d(df,x\u001b[39m=\u001b[39m\u001b[39m0\u001b[39m,y\u001b[39m=\u001b[39m\u001b[39m1\u001b[39m,z\u001b[39m=\u001b[39m\u001b[39m2\u001b[39m)\n",
      "\u001b[0;32m      5\u001b[0m fig\u001b[39m.\u001b[39mshow()\n",
      "\n",
      "\u001b[1;31mNameError\u001b[0m: name 'points' is not defined"
     ]
    }
   ],
   "source": [
    "import plotly.express as px\n",
    "import pandas as pd\n",
    "df = pd.DataFrame(points)\n",
    "fig = px.scatter_3d(df,x=0,y=1,z=2)\n",
    "fig.show()\n",
    "fig.show(width=800, height=800)"
   ]
  },
  {
   "cell_type": "code",
   "execution_count": null,
   "metadata": {},
   "outputs": [
    {
     "ename": "NameError",
     "evalue": "name 'dino_dis' is not defined",
     "output_type": "error",
     "traceback": [
      "\u001b[1;31m---------------------------------------------------------------------------\u001b[0m\n",
      "\u001b[1;31mNameError\u001b[0m                                 Traceback (most recent call last)\n",
      "Cell \u001b[1;32mIn[30], line 51\u001b[0m\n",
      "\u001b[0;32m     47\u001b[0m     plt\u001b[39m.\u001b[39mtight_layout()\n",
      "\u001b[0;32m     48\u001b[0m     plt\u001b[39m.\u001b[39mshow()\n",
      "\u001b[1;32m---> 51\u001b[0m plot_3d_mesh(dino_dis)\n",
      "\n",
      "\u001b[1;31mNameError\u001b[0m: name 'dino_dis' is not defined"
     ]
    }
   ],
   "source": [
    "import matplotlib.pyplot as plt\n",
    "from mpl_toolkits.mplot3d import Axes3D\n",
    "from sklearn.neighbors import NearestNeighbors\n",
    "import numpy as np\n",
    "\n",
    "def sample_points_from_distribution(distribution, n_cuts, num_points):\n",
    "    count = np.round(distribution * num_points / sum(distribution)).astype(int)\n",
    "    x, y, z = np.unravel_index(np.repeat(np.arange(n_cuts**3), count), (n_cuts, n_cuts, n_cuts))\n",
    "    x = x / n_cuts + np.random.rand(x.shape[0]) / n_cuts\n",
    "    y = y / n_cuts + np.random.rand(y.shape[0]) / n_cuts\n",
    "    z = z / n_cuts + np.random.rand(z.shape[0]) / n_cuts\n",
    "    return x, y, z, count\n",
    "\n",
    "def plot_3d_distribution_with_mesh(distribution, n_cuts, num_points, alpha, size):\n",
    "    x, y, z, count = sample_points_from_distribution(distribution, n_cuts, num_points)\n",
    "    fig = plt.figure()\n",
    "    ax = fig.add_subplot(111, projection='3d')\n",
    "    ax.scatter(x, y, z, alpha=alpha, s=size)\n",
    "    triang = triangulate_mesh(x, y, z)\n",
    "    ax.plot_trisurf(x, y, triang, triangles=triang.get_faces(), color='red', alpha=0.5)\n",
    "    plt.tight_layout()\n",
    "    plt.show()\n",
    "\n",
    "\n",
    "def plot_3d_mesh(points, n_neighbors=20, eps=0.01):\n",
    "    # Find the nearest neighbors for each point\n",
    "    nbrs = NearestNeighbors(n_neighbors=n_neighbors).fit(points)\n",
    "    distances, indices = nbrs.kneighbors(points)\n",
    "\n",
    "    # Create a mesh by connecting each point to its neighbors\n",
    "    mesh = []\n",
    "    for i in range(points.shape[0]):\n",
    "        for j in range(n_neighbors):\n",
    "            if i < indices[i, j]:\n",
    "                mesh.append([i, indices[i, j]])\n",
    "\n",
    "    mesh = np.array(mesh)\n",
    "\n",
    "    # Plot the mesh\n",
    "    fig = plt.figure()\n",
    "    ax = fig.add_subplot(111, projection='3d')\n",
    "    ax.scatter(points[:, 0], points[:, 1], points[:, 2], s=5, c='b', depthshade=False)\n",
    "    ax.plot_trisurf(points[:, 0], points[:, 1], points[:, 2], triangles=mesh, alpha=0.2)\n",
    "    ax.set_xlabel('X')\n",
    "    ax.set_ylabel('Y')\n",
    "    ax.set_zlabel('Z')\n",
    "    plt.tight_layout()\n",
    "    plt.show()\n",
    "\n",
    "\n",
    "plot_3d_mesh(dino_dis)"
   ]
  },
  {
   "cell_type": "code",
   "execution_count": null,
   "metadata": {},
   "outputs": [],
   "source": [
    "np.linalg.norm(x-mu_robot)/np.linalg.norm(x-mu_torus)"
   ]
  },
  {
   "cell_type": "code",
   "execution_count": null,
   "metadata": {},
   "outputs": [],
   "source": [
    "\n",
    "from pyntcloud import PyntCloud\n",
    "import pandas as pd\n",
    "points=[]\n",
    "epsilon= 0.00001\n",
    "for i in range(len(x)):\n",
    "    a = i_to_xyz(i)\n",
    "    if(x[i]>epsilon):\n",
    "        points+=[(-0.5+a[0]/(2.0*n),-0.5+a[1]/(2.0*n),-0.5+a[2]/(2.0*n))]\n",
    "from scipy.spatial import Delaunay\n",
    "tri = Delaunay(points)\n",
    "# Create a mesh from the point cloud\n",
    "mesh = trimesh.Trimesh(vertices=points, faces=tri.simplices)\n",
    "\n",
    "# Save the mesh as an .off file\n",
    "mesh.export(\"point_cloud.off\")"
   ]
  }
 ],
 "metadata": {
  "kernelspec": {
   "display_name": "Python 3",
   "language": "python",
   "name": "python3"
  },
  "language_info": {
   "name": "python",
   "version": "3.10.10"
  },
  "orig_nbformat": 4,
  "vscode": {
   "interpreter": {
    "hash": "63c7a4e602b9fd2c97812ebffbdbdb55feebf41ddf749caac858f8888798e0fd"
   }
  }
 },
 "nbformat": 4,
 "nbformat_minor": 2
}
